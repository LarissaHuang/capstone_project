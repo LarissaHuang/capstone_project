{
 "cells": [
  {
   "cell_type": "markdown",
   "id": "0e429001",
   "metadata": {},
   "source": [
    "Name: Larissa Huang (Brainstation Data Science Diploma Candidate) <br>\n",
    "Contact: lari.huang@gmail.com"
   ]
  },
  {
   "cell_type": "markdown",
   "id": "f6f85c3c",
   "metadata": {},
   "source": [
    "## Table of Contents\n",
    "- [Data Preprocessing](#Data-Preprocessing)\n",
    "- [Exploratory Data Analysis](#EDA)\n",
    "- [Introduction](#Introduction)\n",
    "- [Data Dictionary](#Data-Dictionary)\n"
   ]
  },
  {
   "cell_type": "code",
   "execution_count": null,
   "id": "0f00f2c1",
   "metadata": {},
   "outputs": [],
   "source": [
    "# import relevant packages\n",
    "import numpy as np\n",
    "import pandas as pd\n",
    "import matplotlib.pyplot as plt\n",
    "from scipy import stats\n",
    "from scipy.stats import norm\n",
    "import seaborn as sns\n",
    "import plotly.express as px\n",
    "from IPython.display import Image, display\n",
    "\n",
    "# be sure to import opencv-python locally "
   ]
  },
  {
   "cell_type": "code",
   "execution_count": null,
   "id": "598b81a1",
   "metadata": {},
   "outputs": [],
   "source": []
  },
  {
   "cell_type": "code",
   "execution_count": null,
   "id": "8b353cc4",
   "metadata": {
    "scrolled": true
   },
   "outputs": [],
   "source": [
    "import os\n",
    "\n",
    "# Print the current working directory\n",
    "print(os.getcwd())\n"
   ]
  },
  {
   "cell_type": "code",
   "execution_count": null,
   "id": "f3fd882f",
   "metadata": {},
   "outputs": [],
   "source": [
    "new_directory = '/Users/larissahuang/Desktop'\n",
    "os.chdir(new_directory)"
   ]
  },
  {
   "cell_type": "markdown",
   "id": "fbcec708",
   "metadata": {},
   "source": [
    "## Data Preprocessing"
   ]
  },
  {
   "cell_type": "code",
   "execution_count": null,
   "id": "66a5a67b",
   "metadata": {
    "scrolled": true
   },
   "outputs": [],
   "source": [
    "# do regular eda, no slide ncecessary\n",
    "\n",
    "# how many categories, types of birds (genus)\n",
    "# how many images in each categ. (mean # images per species)\n",
    "\n",
    "# show 3 images for each bird category (sample images)\n",
    "\n",
    "#---\n",
    "# use open cv to load a jpg into python which converts it to numpy array with pixel values, to do histogram\n",
    "# (show on slide) \n",
    "\n",
    "# take 1 bird from type 1, what is the range of pixel values for this one bird (one histogram for one picture of bird)\n",
    "# use images from train folder\n",
    "\n",
    "# can do histogram of pixel values to show difference\n",
    "\n",
    "\n",
    "\n",
    "df = pd.read_csv('birds.csv')\n",
    "df.head()"
   ]
  },
  {
   "cell_type": "markdown",
   "id": "88e9647f",
   "metadata": {},
   "source": [
    "We can see that the dataframe has 4 features of significance: the filepath to the image, the labels which represents the species, the dataset it belongs to, and the scientific name of the species. The class id column contains no relevant information so I will drop it. I will also rename \"labels\" to \"species\" because it's more descriptive, and drop the scientific name as the species enough. I will also rename \"filepaths\" to \"path\". "
   ]
  },
  {
   "cell_type": "code",
   "execution_count": null,
   "id": "7a58eb72",
   "metadata": {
    "scrolled": true
   },
   "outputs": [],
   "source": [
    "df.drop('class id', axis=1, inplace=True)\n",
    "\n",
    "df.rename(columns={'labels': 'species'}, inplace=True)\n",
    "\n",
    "df.drop('scientific name', axis=1, inplace=True)\n",
    "\n",
    "df.rename(columns={'filepaths': 'path'}, inplace=True)"
   ]
  },
  {
   "cell_type": "markdown",
   "id": "ef265e3e",
   "metadata": {},
   "source": [
    "I'll only be working with the train data set for now, so I will copy only the training images into a new df"
   ]
  },
  {
   "cell_type": "code",
   "execution_count": null,
   "id": "ac6d4df9",
   "metadata": {},
   "outputs": [],
   "source": [
    "df_train = df[(df[\"data set\"] == \"train\")]\n",
    "               "
   ]
  },
  {
   "cell_type": "code",
   "execution_count": null,
   "id": "c2f0218c",
   "metadata": {},
   "outputs": [],
   "source": [
    "df_train"
   ]
  },
  {
   "cell_type": "code",
   "execution_count": null,
   "id": "a85e4a26",
   "metadata": {},
   "outputs": [],
   "source": [
    "# now that we only have train data, we can drop the data set column\n",
    "df_train.drop('data set', axis=1, inplace=True)\n",
    "\n",
    "df_train"
   ]
  },
  {
   "cell_type": "markdown",
   "id": "91863927",
   "metadata": {},
   "source": [
    "## EDA"
   ]
  },
  {
   "cell_type": "code",
   "execution_count": null,
   "id": "4793ac86",
   "metadata": {
    "scrolled": true
   },
   "outputs": [],
   "source": [
    "img_counts = df_train['species'].value_counts()\n",
    "\n",
    "# Print the counts\n",
    "print(img_counts)"
   ]
  },
  {
   "cell_type": "code",
   "execution_count": null,
   "id": "9d6cee33",
   "metadata": {},
   "outputs": [],
   "source": [
    "species = df_train['species'].value_counts().sort_index(ascending=True).index.tolist()\n",
    "\n",
    "\n",
    "counts = df['species'].value_counts().sort_index(ascending=True).tolist()\n"
   ]
  },
  {
   "cell_type": "code",
   "execution_count": null,
   "id": "67502f4c",
   "metadata": {
    "scrolled": true
   },
   "outputs": [],
   "source": [
    "mean_count = df_train['species'].value_counts().mean()\n",
    "mean_count = mean_count.round()\n",
    "\n",
    "median_count = df_train['species'].value_counts().median()\n",
    "\n",
    "print(f\"mean count: {mean_count}\")\n",
    "print(f\"median count: {median_count}\")"
   ]
  },
  {
   "cell_type": "markdown",
   "id": "52000516",
   "metadata": {},
   "source": [
    "We have 525 different bird species, with a max image count of 263 and minimum image counts of 130. The mean image count is is 161 and the median is 158"
   ]
  },
  {
   "cell_type": "code",
   "execution_count": null,
   "id": "1a0d103d",
   "metadata": {
    "scrolled": false
   },
   "outputs": [],
   "source": [
    "plt.figure()\n",
    "plt.hist(img_counts, bins = 134)\n",
    "plt.title('Distribution of Frequency of Image Count Per Species')\n",
    "\n",
    "plt.xlabel('Image Count')\n",
    "plt.xlim(130,270)\n",
    "\n",
    "plt.yticks([])\n",
    "plt.ylabel('Frequency')\n",
    "plt.show()"
   ]
  },
  {
   "cell_type": "markdown",
   "id": "05e114b7",
   "metadata": {},
   "source": [
    "This histogram shows that the vast majority of species have fewer than 200 images and there are many species with 150-170 images.  "
   ]
  },
  {
   "cell_type": "markdown",
   "id": "58cbeb32",
   "metadata": {},
   "source": [
    "Now let's take a look at some photos for the species with the least number of photos. We learned above that the least number of photos is 130, and the following species are tied for least number of photos. "
   ]
  },
  {
   "cell_type": "code",
   "execution_count": null,
   "id": "5ec30e81",
   "metadata": {
    "scrolled": true
   },
   "outputs": [],
   "source": [
    "# find out the species that have 130 images\n",
    "least_img_species = img_counts[img_counts == 130].index.tolist()\n",
    "\n",
    "least_img_species"
   ]
  },
  {
   "cell_type": "code",
   "execution_count": null,
   "id": "3bf7eb9b",
   "metadata": {},
   "outputs": [],
   "source": [
    "# create a new df of all the records belowing to species with the least image count\n",
    "df_least = df_train[df_train[\"species\"].isin(least_img_species)]\n",
    "\n",
    "df_least"
   ]
  },
  {
   "cell_type": "code",
   "execution_count": null,
   "id": "b121bf48",
   "metadata": {
    "scrolled": false
   },
   "outputs": [],
   "source": [
    "# make a new dataframe with 3 randomly selected samples from df_least\n",
    "samples = df_least.groupby('species').sample(n=3)\n",
    "samples"
   ]
  },
  {
   "cell_type": "code",
   "execution_count": null,
   "id": "2cb6b7b2",
   "metadata": {},
   "outputs": [],
   "source": [
    "# show all images in the samples dataframe\n",
    "for index, row in samples.iterrows():\n",
    "    display(Image(url=row.path))"
   ]
  },
  {
   "cell_type": "code",
   "execution_count": null,
   "id": "b36249f0",
   "metadata": {},
   "outputs": [],
   "source": [
    "import cv2\n",
    "\n",
    "# Load the image\n",
    "image_path = 'train/AMETHYST WOODSTAR/076.jpg'\n",
    "image = cv2.imread(image_path)\n",
    "\n",
    "# Check if the image is loaded correctly\n",
    "if image is not None:\n",
    "    print(\"Image loaded successfully\")\n",
    "    # Image is already a NumPy array\n",
    "    print(type(image))\n",
    "    print(\"Shape:\", image.shape)  # (Height, Width, Channels)\n",
    "\n",
    "    # Accessing a pixel value\n",
    "    pixel_value = image[20, 10]\n",
    "    print(\"Pixel value (BGR):\", pixel_value)\n",
    "else:\n",
    "    print(\"Failed to load the image\")"
   ]
  },
  {
   "cell_type": "code",
   "execution_count": null,
   "id": "5946fe38",
   "metadata": {},
   "outputs": [],
   "source": []
  },
  {
   "cell_type": "code",
   "execution_count": null,
   "id": "9de546b3",
   "metadata": {},
   "outputs": [],
   "source": [
    "# display(Image(url='train/'{species}'001.jpg'))"
   ]
  },
  {
   "cell_type": "code",
   "execution_count": null,
   "id": "db3d6893",
   "metadata": {},
   "outputs": [],
   "source": [
    "the vast majority of species have fewer than 200 images"
   ]
  }
 ],
 "metadata": {
  "kernelspec": {
   "display_name": "Python 3 (ipykernel)",
   "language": "python",
   "name": "python3"
  },
  "language_info": {
   "codemirror_mode": {
    "name": "ipython",
    "version": 3
   },
   "file_extension": ".py",
   "mimetype": "text/x-python",
   "name": "python",
   "nbconvert_exporter": "python",
   "pygments_lexer": "ipython3",
   "version": "3.11.5"
  }
 },
 "nbformat": 4,
 "nbformat_minor": 5
}
