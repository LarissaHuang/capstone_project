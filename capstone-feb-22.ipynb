{
 "cells": [
  {
   "cell_type": "markdown",
   "id": "0e429001",
   "metadata": {},
   "source": [
    "Name: Larissa Huang (Brainstation Data Science Diploma Candidate) <br>\n",
    "Contact: lari.huang@gmail.com"
   ]
  },
  {
   "cell_type": "markdown",
   "id": "f6f85c3c",
   "metadata": {},
   "source": [
    "## Table of Contents\n",
    "- [Data Preprocessing](#Data-Preprocessing)\n",
    "- [Exploratory Data Analysis](#EDA)\n",
    "- [Introduction](#Introduction)\n",
    "- [Data Dictionary](#Data-Dictionary)\n"
   ]
  },
  {
   "cell_type": "code",
   "execution_count": 1,
   "id": "0f00f2c1",
   "metadata": {},
   "outputs": [],
   "source": [
    "# import relevant packages\n",
    "import numpy as np\n",
    "import pandas as pd\n",
    "import matplotlib.pyplot as plt\n",
    "from scipy import stats\n",
    "from scipy.stats import norm\n",
    "import seaborn as sns\n",
    "import plotly.express as px\n",
    "from IPython.display import Image, display\n",
    "\n",
    "# be sure to import opencv-python locally "
   ]
  },
  {
   "cell_type": "code",
   "execution_count": 2,
   "id": "8b353cc4",
   "metadata": {
    "scrolled": true
   },
   "outputs": [
    {
     "name": "stdout",
     "output_type": "stream",
     "text": [
      "/Users/larissahuang/Desktop/data\n"
     ]
    }
   ],
   "source": [
    "import os\n",
    "# Print the current working directory\n",
    "print(os.getcwd())"
   ]
  },
  {
   "cell_type": "code",
   "execution_count": 3,
   "id": "f3fd882f",
   "metadata": {},
   "outputs": [],
   "source": [
    "# change new_directory to your directory\n",
    "new_directory = '/Users/larissahuang/Desktop'\n",
    "os.chdir(new_directory)"
   ]
  },
  {
   "cell_type": "markdown",
   "id": "fbcec708",
   "metadata": {},
   "source": [
    "## Data Preprocessing"
   ]
  },
  {
   "cell_type": "code",
   "execution_count": 4,
   "id": "66a5a67b",
   "metadata": {
    "scrolled": true
   },
   "outputs": [
    {
     "data": {
      "text/html": [
       "<div>\n",
       "<style scoped>\n",
       "    .dataframe tbody tr th:only-of-type {\n",
       "        vertical-align: middle;\n",
       "    }\n",
       "\n",
       "    .dataframe tbody tr th {\n",
       "        vertical-align: top;\n",
       "    }\n",
       "\n",
       "    .dataframe thead th {\n",
       "        text-align: right;\n",
       "    }\n",
       "</style>\n",
       "<table border=\"1\" class=\"dataframe\">\n",
       "  <thead>\n",
       "    <tr style=\"text-align: right;\">\n",
       "      <th></th>\n",
       "      <th>class id</th>\n",
       "      <th>filepaths</th>\n",
       "      <th>labels</th>\n",
       "      <th>data set</th>\n",
       "      <th>scientific name</th>\n",
       "    </tr>\n",
       "  </thead>\n",
       "  <tbody>\n",
       "    <tr>\n",
       "      <th>0</th>\n",
       "      <td>0.0</td>\n",
       "      <td>train/ABBOTTS BABBLER/001.jpg</td>\n",
       "      <td>ABBOTTS BABBLER</td>\n",
       "      <td>train</td>\n",
       "      <td>MALACOCINCLA ABBOTTI</td>\n",
       "    </tr>\n",
       "    <tr>\n",
       "      <th>1</th>\n",
       "      <td>0.0</td>\n",
       "      <td>train/ABBOTTS BABBLER/007.jpg</td>\n",
       "      <td>ABBOTTS BABBLER</td>\n",
       "      <td>train</td>\n",
       "      <td>MALACOCINCLA ABBOTTI</td>\n",
       "    </tr>\n",
       "    <tr>\n",
       "      <th>2</th>\n",
       "      <td>0.0</td>\n",
       "      <td>train/ABBOTTS BABBLER/008.jpg</td>\n",
       "      <td>ABBOTTS BABBLER</td>\n",
       "      <td>train</td>\n",
       "      <td>MALACOCINCLA ABBOTTI</td>\n",
       "    </tr>\n",
       "    <tr>\n",
       "      <th>3</th>\n",
       "      <td>0.0</td>\n",
       "      <td>train/ABBOTTS BABBLER/009.jpg</td>\n",
       "      <td>ABBOTTS BABBLER</td>\n",
       "      <td>train</td>\n",
       "      <td>MALACOCINCLA ABBOTTI</td>\n",
       "    </tr>\n",
       "    <tr>\n",
       "      <th>4</th>\n",
       "      <td>0.0</td>\n",
       "      <td>train/ABBOTTS BABBLER/002.jpg</td>\n",
       "      <td>ABBOTTS BABBLER</td>\n",
       "      <td>train</td>\n",
       "      <td>MALACOCINCLA ABBOTTI</td>\n",
       "    </tr>\n",
       "  </tbody>\n",
       "</table>\n",
       "</div>"
      ],
      "text/plain": [
       "   class id                      filepaths           labels data set  \\\n",
       "0       0.0  train/ABBOTTS BABBLER/001.jpg  ABBOTTS BABBLER    train   \n",
       "1       0.0  train/ABBOTTS BABBLER/007.jpg  ABBOTTS BABBLER    train   \n",
       "2       0.0  train/ABBOTTS BABBLER/008.jpg  ABBOTTS BABBLER    train   \n",
       "3       0.0  train/ABBOTTS BABBLER/009.jpg  ABBOTTS BABBLER    train   \n",
       "4       0.0  train/ABBOTTS BABBLER/002.jpg  ABBOTTS BABBLER    train   \n",
       "\n",
       "        scientific name  \n",
       "0  MALACOCINCLA ABBOTTI  \n",
       "1  MALACOCINCLA ABBOTTI  \n",
       "2  MALACOCINCLA ABBOTTI  \n",
       "3  MALACOCINCLA ABBOTTI  \n",
       "4  MALACOCINCLA ABBOTTI  "
      ]
     },
     "execution_count": 4,
     "metadata": {},
     "output_type": "execute_result"
    }
   ],
   "source": [
    "\n",
    "\n",
    "#---\n",
    "# use open cv to load a jpg into python which converts it to numpy array with pixel values, to do histogram\n",
    "# (show on slide) \n",
    "\n",
    "# take 1 bird from type 1, what is the range of pixel values for this one bird \n",
    "#(one histogram for one picture of bird)\n",
    "# use images from train folder\n",
    "\n",
    "# can do histogram of pixel values to show difference\n",
    "\n",
    "\n",
    "\n",
    "df = pd.read_csv('birds.csv')\n",
    "df.head()"
   ]
  },
  {
   "cell_type": "markdown",
   "id": "88e9647f",
   "metadata": {},
   "source": [
    "We can see that the dataframe has 4 features of significance: the filepath to the image, the labels which represents the species, the dataset it belongs to, and the scientific name of the species. The class id column contains no relevant information so I will drop it. I will also rename \"labels\" to \"species\" because it's more descriptive, and drop the scientific name as the species enough. I will also rename \"filepaths\" to \"path\". "
   ]
  },
  {
   "cell_type": "code",
   "execution_count": 5,
   "id": "7a58eb72",
   "metadata": {
    "scrolled": true
   },
   "outputs": [],
   "source": [
    "df.drop('class id', axis=1, inplace=True)\n",
    "\n",
    "df.rename(columns={'labels': 'species'}, inplace=True)\n",
    "\n",
    "df.drop('scientific name', axis=1, inplace=True)\n",
    "\n",
    "df.rename(columns={'filepaths': 'path'}, inplace=True)"
   ]
  },
  {
   "cell_type": "markdown",
   "id": "ef265e3e",
   "metadata": {},
   "source": [
    "I'll only be working with the train data set for now, so I will copy only the training images into a new df"
   ]
  },
  {
   "cell_type": "code",
   "execution_count": 6,
   "id": "ac6d4df9",
   "metadata": {},
   "outputs": [],
   "source": [
    "df_train = df[(df[\"data set\"] == \"train\")]\n",
    "               "
   ]
  },
  {
   "cell_type": "code",
   "execution_count": 7,
   "id": "c2f0218c",
   "metadata": {},
   "outputs": [
    {
     "data": {
      "text/html": [
       "<div>\n",
       "<style scoped>\n",
       "    .dataframe tbody tr th:only-of-type {\n",
       "        vertical-align: middle;\n",
       "    }\n",
       "\n",
       "    .dataframe tbody tr th {\n",
       "        vertical-align: top;\n",
       "    }\n",
       "\n",
       "    .dataframe thead th {\n",
       "        text-align: right;\n",
       "    }\n",
       "</style>\n",
       "<table border=\"1\" class=\"dataframe\">\n",
       "  <thead>\n",
       "    <tr style=\"text-align: right;\">\n",
       "      <th></th>\n",
       "      <th>path</th>\n",
       "      <th>species</th>\n",
       "      <th>data set</th>\n",
       "    </tr>\n",
       "  </thead>\n",
       "  <tbody>\n",
       "    <tr>\n",
       "      <th>0</th>\n",
       "      <td>train/ABBOTTS BABBLER/001.jpg</td>\n",
       "      <td>ABBOTTS BABBLER</td>\n",
       "      <td>train</td>\n",
       "    </tr>\n",
       "    <tr>\n",
       "      <th>1</th>\n",
       "      <td>train/ABBOTTS BABBLER/007.jpg</td>\n",
       "      <td>ABBOTTS BABBLER</td>\n",
       "      <td>train</td>\n",
       "    </tr>\n",
       "    <tr>\n",
       "      <th>2</th>\n",
       "      <td>train/ABBOTTS BABBLER/008.jpg</td>\n",
       "      <td>ABBOTTS BABBLER</td>\n",
       "      <td>train</td>\n",
       "    </tr>\n",
       "    <tr>\n",
       "      <th>3</th>\n",
       "      <td>train/ABBOTTS BABBLER/009.jpg</td>\n",
       "      <td>ABBOTTS BABBLER</td>\n",
       "      <td>train</td>\n",
       "    </tr>\n",
       "    <tr>\n",
       "      <th>4</th>\n",
       "      <td>train/ABBOTTS BABBLER/002.jpg</td>\n",
       "      <td>ABBOTTS BABBLER</td>\n",
       "      <td>train</td>\n",
       "    </tr>\n",
       "    <tr>\n",
       "      <th>...</th>\n",
       "      <td>...</td>\n",
       "      <td>...</td>\n",
       "      <td>...</td>\n",
       "    </tr>\n",
       "    <tr>\n",
       "      <th>84630</th>\n",
       "      <td>train/BLACK BREASTED PUFFBIRD/151.jpg</td>\n",
       "      <td>BLACK BREASTED PUFFBIRD</td>\n",
       "      <td>train</td>\n",
       "    </tr>\n",
       "    <tr>\n",
       "      <th>84631</th>\n",
       "      <td>train/BLACK BREASTED PUFFBIRD/152.jpg</td>\n",
       "      <td>BLACK BREASTED PUFFBIRD</td>\n",
       "      <td>train</td>\n",
       "    </tr>\n",
       "    <tr>\n",
       "      <th>84632</th>\n",
       "      <td>train/BLACK BREASTED PUFFBIRD/153.jpg</td>\n",
       "      <td>BLACK BREASTED PUFFBIRD</td>\n",
       "      <td>train</td>\n",
       "    </tr>\n",
       "    <tr>\n",
       "      <th>84633</th>\n",
       "      <td>train/BLACK BREASTED PUFFBIRD/146.jpg</td>\n",
       "      <td>BLACK BREASTED PUFFBIRD</td>\n",
       "      <td>train</td>\n",
       "    </tr>\n",
       "    <tr>\n",
       "      <th>84634</th>\n",
       "      <td>train/BLACK BREASTED PUFFBIRD/99.jpg</td>\n",
       "      <td>BLACK BREASTED PUFFBIRD</td>\n",
       "      <td>train</td>\n",
       "    </tr>\n",
       "  </tbody>\n",
       "</table>\n",
       "<p>84635 rows × 3 columns</p>\n",
       "</div>"
      ],
      "text/plain": [
       "                                        path                  species data set\n",
       "0              train/ABBOTTS BABBLER/001.jpg          ABBOTTS BABBLER    train\n",
       "1              train/ABBOTTS BABBLER/007.jpg          ABBOTTS BABBLER    train\n",
       "2              train/ABBOTTS BABBLER/008.jpg          ABBOTTS BABBLER    train\n",
       "3              train/ABBOTTS BABBLER/009.jpg          ABBOTTS BABBLER    train\n",
       "4              train/ABBOTTS BABBLER/002.jpg          ABBOTTS BABBLER    train\n",
       "...                                      ...                      ...      ...\n",
       "84630  train/BLACK BREASTED PUFFBIRD/151.jpg  BLACK BREASTED PUFFBIRD    train\n",
       "84631  train/BLACK BREASTED PUFFBIRD/152.jpg  BLACK BREASTED PUFFBIRD    train\n",
       "84632  train/BLACK BREASTED PUFFBIRD/153.jpg  BLACK BREASTED PUFFBIRD    train\n",
       "84633  train/BLACK BREASTED PUFFBIRD/146.jpg  BLACK BREASTED PUFFBIRD    train\n",
       "84634   train/BLACK BREASTED PUFFBIRD/99.jpg  BLACK BREASTED PUFFBIRD    train\n",
       "\n",
       "[84635 rows x 3 columns]"
      ]
     },
     "execution_count": 7,
     "metadata": {},
     "output_type": "execute_result"
    }
   ],
   "source": [
    "df_train"
   ]
  },
  {
   "cell_type": "code",
   "execution_count": 8,
   "id": "a85e4a26",
   "metadata": {},
   "outputs": [
    {
     "name": "stderr",
     "output_type": "stream",
     "text": [
      "/var/folders/yw/j5zwv87j33lb7nhh9_bs4mm00000gn/T/ipykernel_8931/3368964317.py:2: SettingWithCopyWarning: \n",
      "A value is trying to be set on a copy of a slice from a DataFrame\n",
      "\n",
      "See the caveats in the documentation: https://pandas.pydata.org/pandas-docs/stable/user_guide/indexing.html#returning-a-view-versus-a-copy\n",
      "  df_train.drop('data set', axis=1, inplace=True)\n"
     ]
    },
    {
     "data": {
      "text/html": [
       "<div>\n",
       "<style scoped>\n",
       "    .dataframe tbody tr th:only-of-type {\n",
       "        vertical-align: middle;\n",
       "    }\n",
       "\n",
       "    .dataframe tbody tr th {\n",
       "        vertical-align: top;\n",
       "    }\n",
       "\n",
       "    .dataframe thead th {\n",
       "        text-align: right;\n",
       "    }\n",
       "</style>\n",
       "<table border=\"1\" class=\"dataframe\">\n",
       "  <thead>\n",
       "    <tr style=\"text-align: right;\">\n",
       "      <th></th>\n",
       "      <th>path</th>\n",
       "      <th>species</th>\n",
       "    </tr>\n",
       "  </thead>\n",
       "  <tbody>\n",
       "    <tr>\n",
       "      <th>0</th>\n",
       "      <td>train/ABBOTTS BABBLER/001.jpg</td>\n",
       "      <td>ABBOTTS BABBLER</td>\n",
       "    </tr>\n",
       "    <tr>\n",
       "      <th>1</th>\n",
       "      <td>train/ABBOTTS BABBLER/007.jpg</td>\n",
       "      <td>ABBOTTS BABBLER</td>\n",
       "    </tr>\n",
       "    <tr>\n",
       "      <th>2</th>\n",
       "      <td>train/ABBOTTS BABBLER/008.jpg</td>\n",
       "      <td>ABBOTTS BABBLER</td>\n",
       "    </tr>\n",
       "    <tr>\n",
       "      <th>3</th>\n",
       "      <td>train/ABBOTTS BABBLER/009.jpg</td>\n",
       "      <td>ABBOTTS BABBLER</td>\n",
       "    </tr>\n",
       "    <tr>\n",
       "      <th>4</th>\n",
       "      <td>train/ABBOTTS BABBLER/002.jpg</td>\n",
       "      <td>ABBOTTS BABBLER</td>\n",
       "    </tr>\n",
       "    <tr>\n",
       "      <th>...</th>\n",
       "      <td>...</td>\n",
       "      <td>...</td>\n",
       "    </tr>\n",
       "    <tr>\n",
       "      <th>84630</th>\n",
       "      <td>train/BLACK BREASTED PUFFBIRD/151.jpg</td>\n",
       "      <td>BLACK BREASTED PUFFBIRD</td>\n",
       "    </tr>\n",
       "    <tr>\n",
       "      <th>84631</th>\n",
       "      <td>train/BLACK BREASTED PUFFBIRD/152.jpg</td>\n",
       "      <td>BLACK BREASTED PUFFBIRD</td>\n",
       "    </tr>\n",
       "    <tr>\n",
       "      <th>84632</th>\n",
       "      <td>train/BLACK BREASTED PUFFBIRD/153.jpg</td>\n",
       "      <td>BLACK BREASTED PUFFBIRD</td>\n",
       "    </tr>\n",
       "    <tr>\n",
       "      <th>84633</th>\n",
       "      <td>train/BLACK BREASTED PUFFBIRD/146.jpg</td>\n",
       "      <td>BLACK BREASTED PUFFBIRD</td>\n",
       "    </tr>\n",
       "    <tr>\n",
       "      <th>84634</th>\n",
       "      <td>train/BLACK BREASTED PUFFBIRD/99.jpg</td>\n",
       "      <td>BLACK BREASTED PUFFBIRD</td>\n",
       "    </tr>\n",
       "  </tbody>\n",
       "</table>\n",
       "<p>84635 rows × 2 columns</p>\n",
       "</div>"
      ],
      "text/plain": [
       "                                        path                  species\n",
       "0              train/ABBOTTS BABBLER/001.jpg          ABBOTTS BABBLER\n",
       "1              train/ABBOTTS BABBLER/007.jpg          ABBOTTS BABBLER\n",
       "2              train/ABBOTTS BABBLER/008.jpg          ABBOTTS BABBLER\n",
       "3              train/ABBOTTS BABBLER/009.jpg          ABBOTTS BABBLER\n",
       "4              train/ABBOTTS BABBLER/002.jpg          ABBOTTS BABBLER\n",
       "...                                      ...                      ...\n",
       "84630  train/BLACK BREASTED PUFFBIRD/151.jpg  BLACK BREASTED PUFFBIRD\n",
       "84631  train/BLACK BREASTED PUFFBIRD/152.jpg  BLACK BREASTED PUFFBIRD\n",
       "84632  train/BLACK BREASTED PUFFBIRD/153.jpg  BLACK BREASTED PUFFBIRD\n",
       "84633  train/BLACK BREASTED PUFFBIRD/146.jpg  BLACK BREASTED PUFFBIRD\n",
       "84634   train/BLACK BREASTED PUFFBIRD/99.jpg  BLACK BREASTED PUFFBIRD\n",
       "\n",
       "[84635 rows x 2 columns]"
      ]
     },
     "execution_count": 8,
     "metadata": {},
     "output_type": "execute_result"
    }
   ],
   "source": [
    "# now that we only have train data, we can drop the data set column\n",
    "df_train.drop('data set', axis=1, inplace=True)\n",
    "\n",
    "df_train"
   ]
  },
  {
   "cell_type": "markdown",
   "id": "91863927",
   "metadata": {},
   "source": [
    "## EDA"
   ]
  },
  {
   "cell_type": "code",
   "execution_count": 9,
   "id": "4793ac86",
   "metadata": {
    "scrolled": true
   },
   "outputs": [
    {
     "name": "stdout",
     "output_type": "stream",
     "text": [
      "species\n",
      "RUFOUS TREPE               263\n",
      "HOUSE FINCH                248\n",
      "D-ARNAUDS BARBET           233\n",
      "OVENBIRD                   233\n",
      "ASIAN GREEN BEE EATER      220\n",
      "                          ... \n",
      "NORTHERN RED BISHOP        130\n",
      "SNOWY PLOVER               130\n",
      "PATAGONIAN SIERRA FINCH    130\n",
      "EURASIAN GOLDEN ORIOLE     130\n",
      "RED TAILED THRUSH          130\n",
      "Name: count, Length: 525, dtype: int64\n"
     ]
    }
   ],
   "source": [
    "img_counts = df_train['species'].value_counts()\n",
    "\n",
    "# Print the counts\n",
    "print(img_counts)"
   ]
  },
  {
   "cell_type": "code",
   "execution_count": 13,
   "id": "9d6cee33",
   "metadata": {},
   "outputs": [],
   "source": [
    "# species = df_train['species'].value_counts().sort_index(ascending=True).index.tolist()\n",
    "\n",
    "# counts = df['species'].value_counts().sort_index(ascending=True).tolist()"
   ]
  },
  {
   "cell_type": "code",
   "execution_count": 11,
   "id": "67502f4c",
   "metadata": {
    "scrolled": true
   },
   "outputs": [
    {
     "name": "stdout",
     "output_type": "stream",
     "text": [
      "mean count: 161.0\n",
      "median count: 158.0\n"
     ]
    }
   ],
   "source": [
    "mean_count = df_train['species'].value_counts().mean()\n",
    "mean_count = mean_count.round()\n",
    "\n",
    "median_count = df_train['species'].value_counts().median()\n",
    "\n",
    "print(f\"mean count: {mean_count}\")\n",
    "print(f\"median count: {median_count}\")"
   ]
  },
  {
   "cell_type": "markdown",
   "id": "52000516",
   "metadata": {},
   "source": [
    "We have 525 different bird species, with a max image count of 263 and minimum image counts of 130. The mean image count is is 161 and the median is 158"
   ]
  },
  {
   "cell_type": "code",
   "execution_count": 14,
   "id": "1a0d103d",
   "metadata": {
    "scrolled": false
   },
   "outputs": [
    {
     "data": {
      "image/png": "[encoded data removed]",
      "text/plain": [
       "<Figure size 640x480 with 1 Axes>"
      ]
     },
     "metadata": {},
     "output_type": "display_data"
    }
   ],
   "source": [
    "plt.figure()\n",
    "plt.hist(img_counts, bins = 134)\n",
    "plt.title('Distribution of Frequency of Image Count Per Species')\n",
    "\n",
    "plt.xlabel('Image Count')\n",
    "plt.xlim(130,270)\n",
    "\n",
    "plt.yticks([])\n",
    "plt.ylabel('Frequency')\n",
    "plt.show()"
   ]
  },
  {
   "cell_type": "markdown",
   "id": "05e114b7",
   "metadata": {},
   "source": [
    "This histogram shows that the vast majority of species have fewer than 200 images and there are many species with 150-170 images.  "
   ]
  },
  {
   "cell_type": "markdown",
   "id": "58cbeb32",
   "metadata": {},
   "source": [
    "Now let's take a look at some photos for the species with the least number of photos. We learned above that the least number of photos is 130, and the following species are tied for least number of photos. "
   ]
  },
  {
   "cell_type": "code",
   "execution_count": 15,
   "id": "5ec30e81",
   "metadata": {
    "scrolled": true
   },
   "outputs": [
    {
     "data": {
      "text/plain": [
       "['AMETHYST WOODSTAR',\n",
       " 'NORTHERN RED BISHOP',\n",
       " 'SNOWY PLOVER',\n",
       " 'PATAGONIAN SIERRA FINCH',\n",
       " 'EURASIAN GOLDEN ORIOLE',\n",
       " 'RED TAILED THRUSH']"
      ]
     },
     "execution_count": 15,
     "metadata": {},
     "output_type": "execute_result"
    }
   ],
   "source": [
    "# find out the species that have 130 images\n",
    "least_img_species = img_counts[img_counts == 130].index.tolist()\n",
    "\n",
    "least_img_species"
   ]
  },
  {
   "cell_type": "code",
   "execution_count": 16,
   "id": "3bf7eb9b",
   "metadata": {},
   "outputs": [
    {
     "data": {
      "text/html": [
       "<div>\n",
       "<style scoped>\n",
       "    .dataframe tbody tr th:only-of-type {\n",
       "        vertical-align: middle;\n",
       "    }\n",
       "\n",
       "    .dataframe tbody tr th {\n",
       "        vertical-align: top;\n",
       "    }\n",
       "\n",
       "    .dataframe thead th {\n",
       "        text-align: right;\n",
       "    }\n",
       "</style>\n",
       "<table border=\"1\" class=\"dataframe\">\n",
       "  <thead>\n",
       "    <tr style=\"text-align: right;\">\n",
       "      <th></th>\n",
       "      <th>path</th>\n",
       "      <th>species</th>\n",
       "    </tr>\n",
       "  </thead>\n",
       "  <tbody>\n",
       "    <tr>\n",
       "      <th>3854</th>\n",
       "      <td>train/AMETHYST WOODSTAR/006.jpg</td>\n",
       "      <td>AMETHYST WOODSTAR</td>\n",
       "    </tr>\n",
       "    <tr>\n",
       "      <th>3855</th>\n",
       "      <td>train/AMETHYST WOODSTAR/011.jpg</td>\n",
       "      <td>AMETHYST WOODSTAR</td>\n",
       "    </tr>\n",
       "    <tr>\n",
       "      <th>3856</th>\n",
       "      <td>train/AMETHYST WOODSTAR/001.jpg</td>\n",
       "      <td>AMETHYST WOODSTAR</td>\n",
       "    </tr>\n",
       "    <tr>\n",
       "      <th>3857</th>\n",
       "      <td>train/AMETHYST WOODSTAR/038.jpg</td>\n",
       "      <td>AMETHYST WOODSTAR</td>\n",
       "    </tr>\n",
       "    <tr>\n",
       "      <th>3858</th>\n",
       "      <td>train/AMETHYST WOODSTAR/007.jpg</td>\n",
       "      <td>AMETHYST WOODSTAR</td>\n",
       "    </tr>\n",
       "    <tr>\n",
       "      <th>...</th>\n",
       "      <td>...</td>\n",
       "      <td>...</td>\n",
       "    </tr>\n",
       "    <tr>\n",
       "      <th>71355</th>\n",
       "      <td>train/SNOWY PLOVER/125.jpg</td>\n",
       "      <td>SNOWY PLOVER</td>\n",
       "    </tr>\n",
       "    <tr>\n",
       "      <th>71356</th>\n",
       "      <td>train/SNOWY PLOVER/124.jpg</td>\n",
       "      <td>SNOWY PLOVER</td>\n",
       "    </tr>\n",
       "    <tr>\n",
       "      <th>71357</th>\n",
       "      <td>train/SNOWY PLOVER/120.jpg</td>\n",
       "      <td>SNOWY PLOVER</td>\n",
       "    </tr>\n",
       "    <tr>\n",
       "      <th>71358</th>\n",
       "      <td>train/SNOWY PLOVER/114.jpg</td>\n",
       "      <td>SNOWY PLOVER</td>\n",
       "    </tr>\n",
       "    <tr>\n",
       "      <th>71359</th>\n",
       "      <td>train/SNOWY PLOVER/122.jpg</td>\n",
       "      <td>SNOWY PLOVER</td>\n",
       "    </tr>\n",
       "  </tbody>\n",
       "</table>\n",
       "<p>780 rows × 2 columns</p>\n",
       "</div>"
      ],
      "text/plain": [
       "                                  path            species\n",
       "3854   train/AMETHYST WOODSTAR/006.jpg  AMETHYST WOODSTAR\n",
       "3855   train/AMETHYST WOODSTAR/011.jpg  AMETHYST WOODSTAR\n",
       "3856   train/AMETHYST WOODSTAR/001.jpg  AMETHYST WOODSTAR\n",
       "3857   train/AMETHYST WOODSTAR/038.jpg  AMETHYST WOODSTAR\n",
       "3858   train/AMETHYST WOODSTAR/007.jpg  AMETHYST WOODSTAR\n",
       "...                                ...                ...\n",
       "71355       train/SNOWY PLOVER/125.jpg       SNOWY PLOVER\n",
       "71356       train/SNOWY PLOVER/124.jpg       SNOWY PLOVER\n",
       "71357       train/SNOWY PLOVER/120.jpg       SNOWY PLOVER\n",
       "71358       train/SNOWY PLOVER/114.jpg       SNOWY PLOVER\n",
       "71359       train/SNOWY PLOVER/122.jpg       SNOWY PLOVER\n",
       "\n",
       "[780 rows x 2 columns]"
      ]
     },
     "execution_count": 16,
     "metadata": {},
     "output_type": "execute_result"
    }
   ],
   "source": [
    "# create a new df of all the rows belowing to species with the least image count\n",
    "df_least = df_train[df_train[\"species\"].isin(least_img_species)]\n",
    "\n",
    "df_least"
   ]
  },
  {
   "cell_type": "code",
   "execution_count": 17,
   "id": "b121bf48",
   "metadata": {
    "scrolled": false
   },
   "outputs": [
    {
     "data": {
      "text/html": [
       "<div>\n",
       "<style scoped>\n",
       "    .dataframe tbody tr th:only-of-type {\n",
       "        vertical-align: middle;\n",
       "    }\n",
       "\n",
       "    .dataframe tbody tr th {\n",
       "        vertical-align: top;\n",
       "    }\n",
       "\n",
       "    .dataframe thead th {\n",
       "        text-align: right;\n",
       "    }\n",
       "</style>\n",
       "<table border=\"1\" class=\"dataframe\">\n",
       "  <thead>\n",
       "    <tr style=\"text-align: right;\">\n",
       "      <th></th>\n",
       "      <th>path</th>\n",
       "      <th>species</th>\n",
       "    </tr>\n",
       "  </thead>\n",
       "  <tbody>\n",
       "    <tr>\n",
       "      <th>3875</th>\n",
       "      <td>train/AMETHYST WOODSTAR/018.jpg</td>\n",
       "      <td>AMETHYST WOODSTAR</td>\n",
       "    </tr>\n",
       "    <tr>\n",
       "      <th>3905</th>\n",
       "      <td>train/AMETHYST WOODSTAR/050.jpg</td>\n",
       "      <td>AMETHYST WOODSTAR</td>\n",
       "    </tr>\n",
       "    <tr>\n",
       "      <th>3859</th>\n",
       "      <td>train/AMETHYST WOODSTAR/004.jpg</td>\n",
       "      <td>AMETHYST WOODSTAR</td>\n",
       "    </tr>\n",
       "    <tr>\n",
       "      <th>33521</th>\n",
       "      <td>train/EURASIAN GOLDEN ORIOLE/022.jpg</td>\n",
       "      <td>EURASIAN GOLDEN ORIOLE</td>\n",
       "    </tr>\n",
       "    <tr>\n",
       "      <th>33538</th>\n",
       "      <td>train/EURASIAN GOLDEN ORIOLE/009.jpg</td>\n",
       "      <td>EURASIAN GOLDEN ORIOLE</td>\n",
       "    </tr>\n",
       "    <tr>\n",
       "      <th>33631</th>\n",
       "      <td>train/EURASIAN GOLDEN ORIOLE/109.jpg</td>\n",
       "      <td>EURASIAN GOLDEN ORIOLE</td>\n",
       "    </tr>\n",
       "    <tr>\n",
       "      <th>56699</th>\n",
       "      <td>train/NORTHERN RED BISHOP/006.jpg</td>\n",
       "      <td>NORTHERN RED BISHOP</td>\n",
       "    </tr>\n",
       "    <tr>\n",
       "      <th>56778</th>\n",
       "      <td>train/NORTHERN RED BISHOP/071.jpg</td>\n",
       "      <td>NORTHERN RED BISHOP</td>\n",
       "    </tr>\n",
       "    <tr>\n",
       "      <th>56744</th>\n",
       "      <td>train/NORTHERN RED BISHOP/079.jpg</td>\n",
       "      <td>NORTHERN RED BISHOP</td>\n",
       "    </tr>\n",
       "    <tr>\n",
       "      <th>59817</th>\n",
       "      <td>train/PATAGONIAN SIERRA FINCH/067.jpg</td>\n",
       "      <td>PATAGONIAN SIERRA FINCH</td>\n",
       "    </tr>\n",
       "    <tr>\n",
       "      <th>59835</th>\n",
       "      <td>train/PATAGONIAN SIERRA FINCH/099.jpg</td>\n",
       "      <td>PATAGONIAN SIERRA FINCH</td>\n",
       "    </tr>\n",
       "    <tr>\n",
       "      <th>59722</th>\n",
       "      <td>train/PATAGONIAN SIERRA FINCH/065.jpg</td>\n",
       "      <td>PATAGONIAN SIERRA FINCH</td>\n",
       "    </tr>\n",
       "    <tr>\n",
       "      <th>65267</th>\n",
       "      <td>train/RED TAILED THRUSH/058.jpg</td>\n",
       "      <td>RED TAILED THRUSH</td>\n",
       "    </tr>\n",
       "    <tr>\n",
       "      <th>65330</th>\n",
       "      <td>train/RED TAILED THRUSH/073.jpg</td>\n",
       "      <td>RED TAILED THRUSH</td>\n",
       "    </tr>\n",
       "    <tr>\n",
       "      <th>65283</th>\n",
       "      <td>train/RED TAILED THRUSH/079.jpg</td>\n",
       "      <td>RED TAILED THRUSH</td>\n",
       "    </tr>\n",
       "    <tr>\n",
       "      <th>71335</th>\n",
       "      <td>train/SNOWY PLOVER/106.jpg</td>\n",
       "      <td>SNOWY PLOVER</td>\n",
       "    </tr>\n",
       "    <tr>\n",
       "      <th>71347</th>\n",
       "      <td>train/SNOWY PLOVER/092.jpg</td>\n",
       "      <td>SNOWY PLOVER</td>\n",
       "    </tr>\n",
       "    <tr>\n",
       "      <th>71286</th>\n",
       "      <td>train/SNOWY PLOVER/057.jpg</td>\n",
       "      <td>SNOWY PLOVER</td>\n",
       "    </tr>\n",
       "  </tbody>\n",
       "</table>\n",
       "</div>"
      ],
      "text/plain": [
       "                                        path                  species\n",
       "3875         train/AMETHYST WOODSTAR/018.jpg        AMETHYST WOODSTAR\n",
       "3905         train/AMETHYST WOODSTAR/050.jpg        AMETHYST WOODSTAR\n",
       "3859         train/AMETHYST WOODSTAR/004.jpg        AMETHYST WOODSTAR\n",
       "33521   train/EURASIAN GOLDEN ORIOLE/022.jpg   EURASIAN GOLDEN ORIOLE\n",
       "33538   train/EURASIAN GOLDEN ORIOLE/009.jpg   EURASIAN GOLDEN ORIOLE\n",
       "33631   train/EURASIAN GOLDEN ORIOLE/109.jpg   EURASIAN GOLDEN ORIOLE\n",
       "56699      train/NORTHERN RED BISHOP/006.jpg      NORTHERN RED BISHOP\n",
       "56778      train/NORTHERN RED BISHOP/071.jpg      NORTHERN RED BISHOP\n",
       "56744      train/NORTHERN RED BISHOP/079.jpg      NORTHERN RED BISHOP\n",
       "59817  train/PATAGONIAN SIERRA FINCH/067.jpg  PATAGONIAN SIERRA FINCH\n",
       "59835  train/PATAGONIAN SIERRA FINCH/099.jpg  PATAGONIAN SIERRA FINCH\n",
       "59722  train/PATAGONIAN SIERRA FINCH/065.jpg  PATAGONIAN SIERRA FINCH\n",
       "65267        train/RED TAILED THRUSH/058.jpg        RED TAILED THRUSH\n",
       "65330        train/RED TAILED THRUSH/073.jpg        RED TAILED THRUSH\n",
       "65283        train/RED TAILED THRUSH/079.jpg        RED TAILED THRUSH\n",
       "71335             train/SNOWY PLOVER/106.jpg             SNOWY PLOVER\n",
       "71347             train/SNOWY PLOVER/092.jpg             SNOWY PLOVER\n",
       "71286             train/SNOWY PLOVER/057.jpg             SNOWY PLOVER"
      ]
     },
     "execution_count": 17,
     "metadata": {},
     "output_type": "execute_result"
    }
   ],
   "source": [
    "# make a new dataframe with 3 randomly selected samples from df_least\n",
    "samples = df_least.groupby('species').sample(n=3)\n",
    "samples"
   ]
  },
  {
   "cell_type": "code",
   "execution_count": 21,
   "id": "2cb6b7b2",
   "metadata": {},
   "outputs": [
    {
     "data": {
      "text/html": [
       "<img src=\"train/AMETHYST WOODSTAR/018.jpg\"/>"
      ],
      "text/plain": [
       "<IPython.core.display.Image object>"
      ]
     },
     "metadata": {},
     "output_type": "display_data"
    },
    {
     "data": {
      "text/html": [
       "<img src=\"train/AMETHYST WOODSTAR/050.jpg\"/>"
      ],
      "text/plain": [
       "<IPython.core.display.Image object>"
      ]
     },
     "metadata": {},
     "output_type": "display_data"
    },
    {
     "data": {
      "text/html": [
       "<img src=\"train/AMETHYST WOODSTAR/004.jpg\"/>"
      ],
      "text/plain": [
       "<IPython.core.display.Image object>"
      ]
     },
     "metadata": {},
     "output_type": "display_data"
    },
    {
     "data": {
      "text/html": [
       "<img src=\"train/EURASIAN GOLDEN ORIOLE/022.jpg\"/>"
      ],
      "text/plain": [
       "<IPython.core.display.Image object>"
      ]
     },
     "metadata": {},
     "output_type": "display_data"
    },
    {
     "data": {
      "text/html": [
       "<img src=\"train/EURASIAN GOLDEN ORIOLE/009.jpg\"/>"
      ],
      "text/plain": [
       "<IPython.core.display.Image object>"
      ]
     },
     "metadata": {},
     "output_type": "display_data"
    },
    {
     "data": {
      "text/html": [
       "<img src=\"train/EURASIAN GOLDEN ORIOLE/109.jpg\"/>"
      ],
      "text/plain": [
       "<IPython.core.display.Image object>"
      ]
     },
     "metadata": {},
     "output_type": "display_data"
    },
    {
     "data": {
      "text/html": [
       "<img src=\"train/NORTHERN RED BISHOP/006.jpg\"/>"
      ],
      "text/plain": [
       "<IPython.core.display.Image object>"
      ]
     },
     "metadata": {},
     "output_type": "display_data"
    },
    {
     "data": {
      "text/html": [
       "<img src=\"train/NORTHERN RED BISHOP/071.jpg\"/>"
      ],
      "text/plain": [
       "<IPython.core.display.Image object>"
      ]
     },
     "metadata": {},
     "output_type": "display_data"
    },
    {
     "data": {
      "text/html": [
       "<img src=\"train/NORTHERN RED BISHOP/079.jpg\"/>"
      ],
      "text/plain": [
       "<IPython.core.display.Image object>"
      ]
     },
     "metadata": {},
     "output_type": "display_data"
    },
    {
     "data": {
      "text/html": [
       "<img src=\"train/PATAGONIAN SIERRA FINCH/067.jpg\"/>"
      ],
      "text/plain": [
       "<IPython.core.display.Image object>"
      ]
     },
     "metadata": {},
     "output_type": "display_data"
    },
    {
     "data": {
      "text/html": [
       "<img src=\"train/PATAGONIAN SIERRA FINCH/099.jpg\"/>"
      ],
      "text/plain": [
       "<IPython.core.display.Image object>"
      ]
     },
     "metadata": {},
     "output_type": "display_data"
    },
    {
     "data": {
      "text/html": [
       "<img src=\"train/PATAGONIAN SIERRA FINCH/065.jpg\"/>"
      ],
      "text/plain": [
       "<IPython.core.display.Image object>"
      ]
     },
     "metadata": {},
     "output_type": "display_data"
    },
    {
     "data": {
      "text/html": [
       "<img src=\"train/RED TAILED THRUSH/058.jpg\"/>"
      ],
      "text/plain": [
       "<IPython.core.display.Image object>"
      ]
     },
     "metadata": {},
     "output_type": "display_data"
    },
    {
     "data": {
      "text/html": [
       "<img src=\"train/RED TAILED THRUSH/073.jpg\"/>"
      ],
      "text/plain": [
       "<IPython.core.display.Image object>"
      ]
     },
     "metadata": {},
     "output_type": "display_data"
    },
    {
     "data": {
      "text/html": [
       "<img src=\"train/RED TAILED THRUSH/079.jpg\"/>"
      ],
      "text/plain": [
       "<IPython.core.display.Image object>"
      ]
     },
     "metadata": {},
     "output_type": "display_data"
    },
    {
     "data": {
      "text/html": [
       "<img src=\"train/SNOWY PLOVER/106.jpg\"/>"
      ],
      "text/plain": [
       "<IPython.core.display.Image object>"
      ]
     },
     "metadata": {},
     "output_type": "display_data"
    },
    {
     "data": {
      "text/html": [
       "<img src=\"train/SNOWY PLOVER/092.jpg\"/>"
      ],
      "text/plain": [
       "<IPython.core.display.Image object>"
      ]
     },
     "metadata": {},
     "output_type": "display_data"
    },
    {
     "data": {
      "text/html": [
       "<img src=\"train/SNOWY PLOVER/057.jpg\"/>"
      ],
      "text/plain": [
       "<IPython.core.display.Image object>"
      ]
     },
     "metadata": {},
     "output_type": "display_data"
    }
   ],
   "source": [
    "# show all images in the samples dataframe\n",
    "for index, row in samples.iterrows():\n",
    "    display(Image(url=row.path))"
   ]
  },
  {
   "cell_type": "code",
   "execution_count": 30,
   "id": "b36249f0",
   "metadata": {},
   "outputs": [
    {
     "name": "stdout",
     "output_type": "stream",
     "text": [
      "Image loaded successfully\n",
      "<class 'numpy.ndarray'>\n",
      "Shape: (224, 224, 3)\n",
      "Pixel value (BGR): [ 95 165 172]\n"
     ]
    }
   ],
   "source": [
    "import cv2\n",
    "\n",
    "# Load the image\n",
    "image_path = 'train/AMETHYST WOODSTAR/018.jpg'\n",
    "image = cv2.imread(image_path)\n",
    "\n",
    "# Check if the image is loaded correctly\n",
    "if image is not None:\n",
    "    print(\"Image loaded successfully\")\n",
    "    # Image is already a NumPy array\n",
    "    print(type(image))\n",
    "    print(\"Shape:\", image.shape)  # (Height, Width, Channels)\n",
    "\n",
    "    # Accessing a pixel value\n",
    "    pixel_value = image[20, 10]\n",
    "    print(\"Pixel value (BGR):\", pixel_value)\n",
    "else:\n",
    "    print(\"Failed to load the image\")"
   ]
  },
  {
   "cell_type": "code",
   "execution_count": 35,
   "id": "2275d4bb",
   "metadata": {},
   "outputs": [
    {
     "data": {
      "text/plain": [
       "array([[[ 95, 165, 172],\n",
       "        [ 95, 165, 172],\n",
       "        [ 95, 165, 172],\n",
       "        ...,\n",
       "        [143, 189, 200],\n",
       "        [143, 189, 200],\n",
       "        [143, 189, 200]],\n",
       "\n",
       "       [[ 95, 165, 172],\n",
       "        [ 95, 165, 172],\n",
       "        [ 95, 165, 172],\n",
       "        ...,\n",
       "        [143, 189, 200],\n",
       "        [143, 189, 200],\n",
       "        [143, 189, 200]],\n",
       "\n",
       "       [[ 95, 165, 172],\n",
       "        [ 95, 165, 172],\n",
       "        [ 95, 165, 172],\n",
       "        ...,\n",
       "        [143, 189, 200],\n",
       "        [143, 189, 200],\n",
       "        [143, 189, 200]],\n",
       "\n",
       "       ...,\n",
       "\n",
       "       [[ 94, 137, 140],\n",
       "        [ 94, 137, 140],\n",
       "        [ 94, 137, 140],\n",
       "        ...,\n",
       "        [126, 165, 174],\n",
       "        [126, 165, 174],\n",
       "        [126, 165, 174]],\n",
       "\n",
       "       [[ 93, 136, 139],\n",
       "        [ 93, 136, 139],\n",
       "        [ 93, 136, 139],\n",
       "        ...,\n",
       "        [125, 164, 173],\n",
       "        [126, 165, 174],\n",
       "        [125, 164, 173]],\n",
       "\n",
       "       [[ 92, 135, 138],\n",
       "        [ 92, 135, 138],\n",
       "        [ 93, 136, 139],\n",
       "        ...,\n",
       "        [125, 164, 173],\n",
       "        [125, 164, 173],\n",
       "        [125, 164, 173]]], dtype=uint8)"
      ]
     },
     "execution_count": 35,
     "metadata": {},
     "output_type": "execute_result"
    }
   ],
   "source": [
    "image"
   ]
  },
  {
   "cell_type": "code",
   "execution_count": 37,
   "id": "5946fe38",
   "metadata": {},
   "outputs": [
    {
     "data": {
      "image/png": "[encoded data removed]",
      "text/plain": [
       "<Figure size 640x480 with 1 Axes>"
      ]
     },
     "metadata": {},
     "output_type": "display_data"
    }
   ],
   "source": [
    "# Convert the given BGR pixel value to RGB\n",
    "# pixel_rgb = [175, 168, 96]  # Rearranging the BGR to RGB\n",
    "\n",
    "# # Channel names\n",
    "# channels = ['Red', 'Green', 'Blue']\n",
    "\n",
    "for i, col in enumerate(['b', 'g', 'r']):\n",
    "    hist = cv2.calcHist([image], [i], None, [256], [0, 256])\n",
    "    plt.plot(hist, color = col)\n",
    "    plt.xlim([0, 256])\n",
    "    \n",
    "plt.show()"
   ]
  },
  {
   "cell_type": "code",
   "execution_count": null,
   "id": "9de546b3",
   "metadata": {},
   "outputs": [],
   "source": [
    "# display(Image(url='train/'{species}'001.jpg'))"
   ]
  },
  {
   "cell_type": "code",
   "execution_count": null,
   "id": "db3d6893",
   "metadata": {},
   "outputs": [],
   "source": [
    "the vast majority of species have fewer than 200 images"
   ]
  }
 ],
 "metadata": {
  "kernelspec": {
   "display_name": "Python 3 (ipykernel)",
   "language": "python",
   "name": "python3"
  },
  "language_info": {
   "codemirror_mode": {
    "name": "ipython",
    "version": 3
   },
   "file_extension": ".py",
   "mimetype": "text/x-python",
   "name": "python",
   "nbconvert_exporter": "python",
   "pygments_lexer": "ipython3",
   "version": "3.11.5"
  }
 },
 "nbformat": 4,
 "nbformat_minor": 5
}
